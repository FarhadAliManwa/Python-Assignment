{
 "cells": [
  {
   "cell_type": "code",
   "execution_count": 3,
   "metadata": {},
   "outputs": [
    {
     "name": "stdout",
     "output_type": "stream",
     "text": [
      "Enter First value3\n",
      "Enter Second value3\n",
      "Enter Operator ^\n",
      "27 answer\n"
     ]
    }
   ],
   "source": [
    "# Q1...\n",
    "\n",
    "x = input('Enter First value')\n",
    "y = input('Enter Second value')\n",
    "operator = input('Enter Operator ')\n",
    "x =  int(x)\n",
    "y = int(y)\n",
    "\n",
    "if operator == '+':\n",
    "    val = x + y\n",
    "    print(val, 'answer')\n",
    "elif operator == '-':\n",
    "    val = x - y\n",
    "    print(val, 'answer')\n",
    "elif operator == '*':\n",
    "    val = x * y\n",
    "    print(val, 'answer')\n",
    "elif operator == '/':\n",
    "    val = x / y\n",
    "    print(val, 'answer')\n",
    "elif operator == '^':\n",
    "    val = x ** y\n",
    "    print(val, 'answer')\n",
    "else:\n",
    "    print('Enter Correct Operator')"
   ]
  },
  {
   "cell_type": "code",
   "execution_count": 2,
   "metadata": {},
   "outputs": [
    {
     "name": "stdout",
     "output_type": "stream",
     "text": [
      "Enter an interger. 0\n",
      "Your Number is in the List\n"
     ]
    }
   ],
   "source": [
    "# Q2...\n",
    "\n",
    "a = int(input(\"Enter an interger. \"))\n",
    "b = [2, 3, 6, 7, 10, 0, 12]\n",
    "\n",
    "for x in b:\n",
    "    if a == x:\n",
    "        print(\"Your Number is in the List\")\n",
    "        break\n",
    "else:\n",
    "    print(\"You entered a wrong Number\")\n",
    "        \n",
    "    "
   ]
  },
  {
   "cell_type": "code",
   "execution_count": 3,
   "metadata": {},
   "outputs": [
    {
     "name": "stdout",
     "output_type": "stream",
     "text": [
      "{'first name': 'Farhad', 'lastname': 'Manwa', 'language': 'Urdu', 'roll number': '139'}\n"
     ]
    }
   ],
   "source": [
    "# Q3...\n",
    "\n",
    "student = {\n",
    "    \"first name\" : \"Farhad\",\n",
    "    \"lastname\" : \"Manwa\",\n",
    "    \"language\" : \"Urdu\",\n",
    "}\n",
    "student[\"roll number\"] = \"139\"\n",
    "print(student)"
   ]
  },
  {
   "cell_type": "code",
   "execution_count": 5,
   "metadata": {},
   "outputs": [
    {
     "name": "stdout",
     "output_type": "stream",
     "text": [
      "26\n"
     ]
    }
   ],
   "source": [
    "# Q4...\n",
    "\n",
    "x = {\n",
    "    \"a\" : 2,\n",
    "    \"b\" : 5,\n",
    "    \"c\" : 8,\n",
    "    \"d\" : 11,\n",
    "}\n",
    "\n",
    "sum = 0\n",
    "\n",
    "for i in x.values():\n",
    "    sum = sum + i\n",
    "    \n",
    "print(sum)"
   ]
  },
  {
   "cell_type": "code",
   "execution_count": 36,
   "metadata": {},
   "outputs": [
    {
     "name": "stdout",
     "output_type": "stream",
     "text": [
      "[1, 2, 3, 5, 8]\n"
     ]
    }
   ],
   "source": [
    "# Q5...\n",
    "\n",
    "list =[1, 2, 4, 3, 5, 2, 1, 0, 8, 6, 5, 3, 9, 8, 7]\n",
    "\n",
    "def repeat(a):\n",
    "    length = len(a)\n",
    "    duplicate = []\n",
    "    for i in range(length):\n",
    "        k = i + 1\n",
    "        for j in range(k, length):\n",
    "            if a[i] == a[j] and a[i] not in duplicate:\n",
    "                duplicate.append(a[i])\n",
    "    return(duplicate)\n",
    "print(repeat(list))"
   ]
  },
  {
   "cell_type": "code",
   "execution_count": 35,
   "metadata": {},
   "outputs": [
    {
     "name": "stdout",
     "output_type": "stream",
     "text": [
      "Enter key you want to check. language\n",
      "Key is Present.\n"
     ]
    }
   ],
   "source": [
    "# Q6...\n",
    "\n",
    "student = {\n",
    "    \"first name\" : \"Farhad\",\n",
    "    \"lastname\" : \"Manwa\",\n",
    "    \"language\" : \"Urdu\",\n",
    "    \"roll no.\" : \"139\",\n",
    "}\n",
    "\n",
    "def checkkey(student,key):\n",
    "    if key in student:\n",
    "        print(\"Key is Present.\")\n",
    "    else:\n",
    "        print(\"Key is not Present.\")\n",
    "key = input(\"Enter key you want to check. \")\n",
    "checkkey(student, key)"
   ]
  },
  {
   "cell_type": "code",
   "execution_count": null,
   "metadata": {},
   "outputs": [],
   "source": []
  }
 ],
 "metadata": {
  "kernelspec": {
   "display_name": "Python 3",
   "language": "python",
   "name": "python3"
  },
  "language_info": {
   "codemirror_mode": {
    "name": "ipython",
    "version": 3
   },
   "file_extension": ".py",
   "mimetype": "text/x-python",
   "name": "python",
   "nbconvert_exporter": "python",
   "pygments_lexer": "ipython3",
   "version": "3.7.4"
  }
 },
 "nbformat": 4,
 "nbformat_minor": 2
}
