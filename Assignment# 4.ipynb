{
 "cells": [
  {
   "cell_type": "code",
   "execution_count": 1,
   "metadata": {},
   "outputs": [
    {
     "name": "stdout",
     "output_type": "stream",
     "text": [
      "{'first_name': 'Sarang Ali', 'last_name': 'Bhugio', 'age': 27, 'city': 'Karachi'}\n"
     ]
    }
   ],
   "source": [
    "# Q1...\n",
    "\n",
    "info = {\n",
    "    \"first_name\" : \"Sarang Ali\",\n",
    "    \"last_name\" : \"Bhugio\",\n",
    "    \"age\" : 27,\n",
    "    \"city\" : \"Karachi\",\n",
    "}\n",
    "print(info)"
   ]
  },
  {
   "cell_type": "code",
   "execution_count": 2,
   "metadata": {},
   "outputs": [
    {
     "name": "stdout",
     "output_type": "stream",
     "text": [
      "{'first_name': 'Sarang Ali', 'last_name': 'Bhugio', 'age': 27, 'city': 'Karachi', 'qualification': 'Graduation'}\n"
     ]
    }
   ],
   "source": [
    "info[\"qualification\"] = \"Graduation\"\n",
    "print(info)"
   ]
  },
  {
   "cell_type": "code",
   "execution_count": 3,
   "metadata": {},
   "outputs": [
    {
     "name": "stdout",
     "output_type": "stream",
     "text": [
      "{'first_name': 'Sarang Ali', 'last_name': 'Bhugio', 'age': 27, 'city': 'Karachi'}\n"
     ]
    }
   ],
   "source": [
    "del info[\"qualification\"]\n",
    "print(info)"
   ]
  },
  {
   "cell_type": "code",
   "execution_count": 15,
   "metadata": {},
   "outputs": [
    {
     "name": "stdout",
     "output_type": "stream",
     "text": [
      "Karachi\n",
      "{'country': 'Pakistan', 'population': '16 Million', 'fact': 'Financial capital of Pakistan'}\n",
      "\n",
      " Tokyo\n",
      "{'country': 'Japan', 'population': '38 Million', 'fact': 'Most Populated city in the world'}\n",
      "\n",
      " Venice\n",
      "{'country': 'Italy', 'population': '.26 Million', 'fact': 'City of Canals'}\n"
     ]
    }
   ],
   "source": [
    "# Q2...\n",
    "\n",
    "cities = {\n",
    "    \"Karachi\" : {\n",
    "        \"country\" : \"Pakistan\",\n",
    "        \"population\" : \"16 Million\",\n",
    "        \"fact\" : \"Financial capital of Pakistan\"\n",
    "    },\n",
    "    \"Tokyo\" : {\n",
    "        \"country\" : \"Japan\",\n",
    "        \"population\" : \"38 Million\",\n",
    "        \"fact\" : \"Most Populated city in the world\"\n",
    "    },\n",
    "    \"Venice\" : {\n",
    "        \"country\" : \"Italy\",\n",
    "        \"population\" : \".26 Million\",\n",
    "        \"fact\" : \"City of Canals\"\n",
    "    }\n",
    "}\n",
    "print(\"Karachi\")\n",
    "print(cities[\"Karachi\"])\n",
    "print(\"\\n Tokyo\")\n",
    "print(cities[\"Tokyo\"])\n",
    "print(\"\\n Venice\")\n",
    "print(cities[\"Venice\"])"
   ]
  },
  {
   "cell_type": "code",
   "execution_count": 8,
   "metadata": {},
   "outputs": [
    {
     "name": "stdout",
     "output_type": "stream",
     "text": [
      "Whats your age, Sir? 12\n",
      "10$ for a Ticket.\n"
     ]
    }
   ],
   "source": [
    "# Q3...\n",
    "\n",
    "age = int(input(\"Whats your age, Sir? \"))\n",
    "\n",
    "while True:\n",
    "    if age < 3:\n",
    "        print(\"The Ticket is Free.\")\n",
    "    elif age == 3 or age <= 12:\n",
    "        print(\"10$ for a Ticket.\")\n",
    "    elif age > 12:\n",
    "        print(\"15$ for a Ticket.\")\n",
    "    break\n",
    "    \n"
   ]
  },
  {
   "cell_type": "code",
   "execution_count": 37,
   "metadata": {},
   "outputs": [
    {
     "name": "stdout",
     "output_type": "stream",
     "text": [
      "Zelda\n",
      "One of my favorite book is \"Kite Runner\".\n"
     ]
    }
   ],
   "source": [
    "# Q4...\n",
    "\n",
    "def favorite_book(title):\n",
    "    print(title)\n",
    "    print(\"One of my favorite book is \\\"Kite Runner\\\".\")   \n",
    "\n",
    "favorite_book(\"Zelda\")"
   ]
  },
  {
   "cell_type": "code",
   "execution_count": 2,
   "metadata": {},
   "outputs": [
    {
     "name": "stdout",
     "output_type": "stream",
     "text": [
      "Guess a Number.\n",
      "26\n",
      "Bit Lower.\n",
      "Guess a Number.\n",
      "16\n",
      "Bit Lower.\n",
      "Guess a Number.\n",
      "11\n",
      "Bit Higher.\n"
     ]
    }
   ],
   "source": [
    "# Q5...\n",
    "# Guess the Number Game.\n",
    "\n",
    "import random\n",
    "number = random.randrange(1, 30)\n",
    "count = 0\n",
    "\n",
    "while count != 3:\n",
    "    count = count + 1\n",
    "    num = int(input(\"Guess a Number.\\n\"))\n",
    "    if num < number:\n",
    "        print(\"Bit Higher.\")\n",
    "    elif num > number:\n",
    "        print(\"Bit Lower.\")\n",
    "    elif num == number:\n",
    "        print(\"Excellent! You Guessed the Number.\")\n",
    "        count = 3"
   ]
  },
  {
   "cell_type": "code",
   "execution_count": null,
   "metadata": {},
   "outputs": [],
   "source": []
  },
  {
   "cell_type": "code",
   "execution_count": null,
   "metadata": {},
   "outputs": [],
   "source": []
  }
 ],
 "metadata": {
  "kernelspec": {
   "display_name": "Python 3",
   "language": "python",
   "name": "python3"
  },
  "language_info": {
   "codemirror_mode": {
    "name": "ipython",
    "version": 3
   },
   "file_extension": ".py",
   "mimetype": "text/x-python",
   "name": "python",
   "nbconvert_exporter": "python",
   "pygments_lexer": "ipython3",
   "version": "3.7.4"
  }
 },
 "nbformat": 4,
 "nbformat_minor": 2
}
