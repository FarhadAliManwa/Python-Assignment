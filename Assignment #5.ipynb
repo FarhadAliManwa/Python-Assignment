{
 "cells": [
  {
   "cell_type": "code",
   "execution_count": 3,
   "metadata": {},
   "outputs": [
    {
     "name": "stdout",
     "output_type": "stream",
     "text": [
      "Enter a number: 5\n",
      "120\n"
     ]
    }
   ],
   "source": [
    "# Q1...\n",
    "\n",
    "import math \n",
    "num = int(input(\"Enter a number: \")) \n",
    "fact = math.factorial(num)\n",
    "print(fact)\n"
   ]
  },
  {
   "cell_type": "code",
   "execution_count": 4,
   "metadata": {},
   "outputs": [
    {
     "name": "stdout",
     "output_type": "stream",
     "text": [
      "Enter a string:  My name is Farhad Ali Manwa. Im Pakistani.\n",
      "Upper case characters :  6\n",
      "Lower case Characters :  27\n"
     ]
    }
   ],
   "source": [
    "# Q2...\n",
    "\n",
    "def string(s):\n",
    "    letter={\"UPPER_CASE\":0, \"LOWER_CASE\":0}\n",
    "    for c in s:\n",
    "        if c.isupper():\n",
    "           letter[\"UPPER_CASE\"]+=1\n",
    "        elif c.islower():\n",
    "           letter[\"LOWER_CASE\"]+=1\n",
    "    print (\"Upper case characters : \", letter[\"UPPER_CASE\"])\n",
    "    print (\"Lower case Characters : \", letter[\"LOWER_CASE\"])\n",
    "\n",
    "X = input(\"Enter a string:  \")\n",
    "string(X)"
   ]
  },
  {
   "cell_type": "code",
   "execution_count": 6,
   "metadata": {},
   "outputs": [
    {
     "name": "stdout",
     "output_type": "stream",
     "text": [
      "enter list length: 5\n",
      "Enter desired numbers: \n",
      "32\n",
      "15\n",
      "12\n",
      "72\n",
      "52\n",
      "[32, 15, 12, 72, 52]\n",
      "Below are the even elements of desired list\n",
      "[32, 12, 72, 52]\n"
     ]
    }
   ],
   "source": [
    "# Q3...\n",
    "\n",
    "list1=[]\n",
    "number=int(input(\"enter list length: \"))\n",
    "print(\"Enter desired numbers: \")\n",
    "for i in range(number):\n",
    "        data=int(input())\n",
    "        list1.append(data)\n",
    "print(list1)\n",
    "list2 = []\n",
    "num = 0\n",
    "while(num < len(list1)): \n",
    "    if list1[num] % 2 == 0: \n",
    "        list2.append(list1[num])\n",
    "    num += 1\n",
    "print(\"Below are the even elements of desired list\")\n",
    "print(list2)"
   ]
  },
  {
   "cell_type": "code",
   "execution_count": 24,
   "metadata": {},
   "outputs": [
    {
     "name": "stdout",
     "output_type": "stream",
     "text": [
      "Enter a string: radar\n",
      "Yes, String is a Palindrome.\n"
     ]
    }
   ],
   "source": [
    "# Q4...\n",
    "\n",
    "  \n",
    "def Palindrome(s): \n",
    "    rev = ''.join(reversed(s)) \n",
    "    if (s == rev): \n",
    "        return True\n",
    "    return False\n",
    "  \n",
    "s = input(\"Enter a string: \")\n",
    "ans = Palindrome(s) \n",
    "  \n",
    "if ans == True: \n",
    "    print(\"Yes, String is a Palindrome.\") \n",
    "else: \n",
    "    print(\"No, String is not a Palindrome.\")"
   ]
  },
  {
   "cell_type": "code",
   "execution_count": 25,
   "metadata": {},
   "outputs": [
    {
     "name": "stdout",
     "output_type": "stream",
     "text": [
      "Enter a Number:  16\n",
      "Yes, you enter a Prime number.\n"
     ]
    }
   ],
   "source": [
    "# Q5...\n",
    "\n",
    "def prime(num):\n",
    "    if num % 2 == 0:\n",
    "        print(\"Yes, you enter a Prime number.\")\n",
    "    else:\n",
    "        print(\"You enter an Odd number.\")\n",
    "        \n",
    "num = int(input(\"Enter a Number:  \"))\n",
    "prime(num)"
   ]
  },
  {
   "cell_type": "code",
   "execution_count": 3,
   "metadata": {},
   "outputs": [
    {
     "name": "stdout",
     "output_type": "stream",
     "text": [
      "Enter items :  books, tv , clock, watch\n",
      "Shoping List : \n",
      " ('books, tv , clock, watch',)\n"
     ]
    }
   ],
   "source": [
    "# Q6...\n",
    "\n",
    "def shoping(*lists):\n",
    "    for name in lists:\n",
    "        print(\"Shoping List : \\n\" ,lists)\n",
    "        \n",
    "lists = input(\"Enter items :  \")  \n",
    "shoping(lists)"
   ]
  },
  {
   "cell_type": "code",
   "execution_count": null,
   "metadata": {},
   "outputs": [],
   "source": []
  }
 ],
 "metadata": {
  "kernelspec": {
   "display_name": "Python 3",
   "language": "python",
   "name": "python3"
  },
  "language_info": {
   "codemirror_mode": {
    "name": "ipython",
    "version": 3
   },
   "file_extension": ".py",
   "mimetype": "text/x-python",
   "name": "python",
   "nbconvert_exporter": "python",
   "pygments_lexer": "ipython3",
   "version": "3.7.4"
  }
 },
 "nbformat": 4,
 "nbformat_minor": 2
}
