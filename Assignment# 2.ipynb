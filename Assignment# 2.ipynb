{
 "cells": [
  {
   "cell_type": "code",
   "execution_count": 5,
   "metadata": {},
   "outputs": [
    {
     "name": "stdout",
     "output_type": "stream",
     "text": [
      "Enter your Maths marks? 78\n",
      "Enter your Science marks? 68\n",
      "Enter your English marks?76\n",
      "Enter your Urdu marks?81\n",
      "Enter your Islamyat marks?79\n",
      "Your Total Marks are 382.0\n",
      "A-Grade\n"
     ]
    }
   ],
   "source": [
    "#Q1...\n",
    "\n",
    "maths = float(input(\"Enter your Maths marks? \"))\n",
    "sci = float(input(\"Enter your Science marks? \"))\n",
    "eng = float(input(\"Enter your English marks?\"))\n",
    "urdu = float(input(\"Enter your Urdu marks?\"))\n",
    "isl = float(input(\"Enter your Islamyat marks?\"))\n",
    "\n",
    "total = maths + sci + eng + urdu + isl\n",
    "print(\"Your Total Marks are \" + str(total))\n",
    "\n",
    "per = (total/500)*100\n",
    "if per >= 80 and per <= 100:\n",
    "    print(\"A1-Grade\")\n",
    "elif per >= 70 and per < 80:\n",
    "    print(\"A-Grade\")\n",
    "elif per >= 60 and per < 70:\n",
    "    print(\"B-Grade\")\n",
    "elif per >= 50 and per < 60:\n",
    "    print(\"C-Grade\")\n",
    "elif per >= 40 and per < 50:\n",
    "    print(\"D-Grade\")\n",
    "elif per >= 33 and per < 40:\n",
    "    print(\"E-Grade\")\n",
    "elif per < 33:\n",
    "    print(\"Fail\")\n",
    "else:\n",
    "    print(\"You have entered inappropriate Percentage\")"
   ]
  },
  {
   "cell_type": "code",
   "execution_count": 9,
   "metadata": {},
   "outputs": [
    {
     "name": "stdout",
     "output_type": "stream",
     "text": [
      "Enter a number. 4753\n",
      "You have entered an Odd Number. \n"
     ]
    }
   ],
   "source": [
    "#Q2...\n",
    "\n",
    "num = int(input(\"Enter a number. \"))\n",
    "result = num % 2\n",
    "if result == 0:\n",
    "    print(\"You have entered a Even Number. \")\n",
    "else:\n",
    "    print(\"You have entered an Odd Number. \")\n"
   ]
  },
  {
   "cell_type": "code",
   "execution_count": 11,
   "metadata": {},
   "outputs": [
    {
     "name": "stdout",
     "output_type": "stream",
     "text": [
      "We have 5 elements list.\n"
     ]
    }
   ],
   "source": [
    "#Q3...\n",
    "\n",
    "cities = [\"Karachi\", \"Lahore\", \"Islamabad\", \"Quetta\", \"Peshawar\"]\n",
    "length = len(cities)\n",
    "print(\"We have \" + str(length) + \" elements list.\")"
   ]
  },
  {
   "cell_type": "code",
   "execution_count": 12,
   "metadata": {},
   "outputs": [
    {
     "name": "stdout",
     "output_type": "stream",
     "text": [
      "Sum of all items in list is 45\n"
     ]
    }
   ],
   "source": [
    "#Q4...\n",
    "\n",
    "list = [2 , 6, 7, 3, 5, 12, 1, 9]\n",
    "total = sum(list)\n",
    "print(\"Sum of all items in list is \" + str(total))"
   ]
  },
  {
   "cell_type": "code",
   "execution_count": 13,
   "metadata": {},
   "outputs": [
    {
     "name": "stdout",
     "output_type": "stream",
     "text": [
      "Largest number of the List is 89\n"
     ]
    }
   ],
   "source": [
    "#Q5...\n",
    "\n",
    "num = [1, 1, 2, 3, 5, 8, 13, 21, 34, 55, 89]\n",
    "largest = max(num)\n",
    "print(\"Largest number of the List is \" + str(largest))\n"
   ]
  },
  {
   "cell_type": "code",
   "execution_count": 17,
   "metadata": {},
   "outputs": [
    {
     "name": "stdout",
     "output_type": "stream",
     "text": [
      "1 1 2 3 "
     ]
    }
   ],
   "source": [
    "#Q6...\n",
    "\n",
    "a = [1, 1, 2, 3, 5, 8, 13, 21, 34, 55, 89]\n",
    "for x in a:\n",
    "    if x < 5:\n",
    "        print(x, end = \" \")"
   ]
  },
  {
   "cell_type": "code",
   "execution_count": 26,
   "metadata": {},
   "outputs": [
    {
     "name": "stdout",
     "output_type": "stream",
     "text": [
      "[1, 1, 2, 3]\n"
     ]
    }
   ],
   "source": [
    "#Q6....\n",
    "\n",
    "a = [1, 1, 2, 3, 5, 8, 13, 21, 34, 55, 89]\n",
    "list = []\n",
    "\n",
    "for element in a:\n",
    "    if element < 5:\n",
    "        list.append(element)\n",
    "print(list)\n",
    "        "
   ]
  },
  {
   "cell_type": "code",
   "execution_count": null,
   "metadata": {},
   "outputs": [],
   "source": []
  }
 ],
 "metadata": {
  "kernelspec": {
   "display_name": "Python 3",
   "language": "python",
   "name": "python3"
  },
  "language_info": {
   "codemirror_mode": {
    "name": "ipython",
    "version": 3
   },
   "file_extension": ".py",
   "mimetype": "text/x-python",
   "name": "python",
   "nbconvert_exporter": "python",
   "pygments_lexer": "ipython3",
   "version": "3.7.4"
  }
 },
 "nbformat": 4,
 "nbformat_minor": 2
}
