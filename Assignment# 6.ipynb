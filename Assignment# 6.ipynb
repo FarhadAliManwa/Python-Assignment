{
 "cells": [
  {
   "cell_type": "code",
   "execution_count": null,
   "metadata": {},
   "outputs": [],
   "source": [
    "# Q1...\n",
    "\n",
    "'''\n",
    "Object Oriented Progamming is a method of programming in which objects are used for programming. \n",
    "OOP is not a language it is a general programming concept."
   ]
  },
  {
   "cell_type": "code",
   "execution_count": null,
   "metadata": {},
   "outputs": [],
   "source": [
    "# Q2...\n",
    "\n",
    "'''\n",
    "Code can be reused.\n",
    "Programming get easy and efficient.\n",
    "The productivity of programmer increases.\n",
    "Help to reduce complextity.\n",
    "Add extra layer of security to the Program.\n",
    "It implements real life scenario."
   ]
  },
  {
   "cell_type": "code",
   "execution_count": null,
   "metadata": {},
   "outputs": [],
   "source": [
    "# Q3...\n",
    "\n",
    "'''\n",
    "Function:\n",
    "    Function is a line of code once defined in program call anywhere iin the programm to do\n",
    "    the task without rewriting the code.\n",
    "Method:\n",
    "    Method is also a function defined within the Class."
   ]
  },
  {
   "cell_type": "code",
   "execution_count": null,
   "metadata": {},
   "outputs": [],
   "source": [
    "# Q4...\n",
    "\n",
    "'''\n",
    "Class:\n",
    "    It is a canvas on which objects are defined. It is simply a way of organizing, managing\n",
    "    and creating object.\n",
    "Object:\n",
    "    An object is anything that has some characteristics and can perform a function.\n",
    "Attributes:\n",
    "    It is the characteristic or the properties of an object.\n",
    "Behavior:\n",
    "    It is the functionality of an attribute."
   ]
  },
  {
   "cell_type": "code",
   "execution_count": 15,
   "metadata": {},
   "outputs": [
    {
     "name": "stdout",
     "output_type": "stream",
     "text": [
      "Hello! this my new Fortuner\n",
      "GLI Engine started\n",
      "Accord Engine switched off\n"
     ]
    }
   ],
   "source": [
    "# Q5...\n",
    "\n",
    "class Car:\n",
    "    def __init__(self, model, color, name, made, engine):\n",
    "        self.model = model\n",
    "        self.color = color\n",
    "        self.name = name\n",
    "        self.made = made\n",
    "        self.engine = engine\n",
    "        \n",
    "    def func_1(self):\n",
    "        print(\"Hello! this my new \" + self.name)\n",
    "        \n",
    "    def start():\n",
    "        print (car_1.name,\"Engine started\")\n",
    "\n",
    "    def stop(self):\n",
    "        print (self.name,\"Engine switched off\")\n",
    "\n",
    "        \n",
    "car_1 = Car(2013,'Black','GLI','TOYOTA','1600cc')\n",
    "car_2 = Car(2016,'silver','Reborn','Honda','1600cc')\n",
    "car_3 = Car(2017,'White','Fortuner','Toyota','V8')\n",
    "car_4 = Car(2010,'Black','Accord','Honda','1300cc')\n",
    "car_5 = Car(2013,'Black','Dayz','Nissan','900cc')\n",
    "\n",
    "\n",
    "car_3.func_1()\n",
    "Car.start()\n",
    "car_4.stop()"
   ]
  },
  {
   "cell_type": "code",
   "execution_count": null,
   "metadata": {},
   "outputs": [],
   "source": []
  }
 ],
 "metadata": {
  "kernelspec": {
   "display_name": "Python 3",
   "language": "python",
   "name": "python3"
  },
  "language_info": {
   "codemirror_mode": {
    "name": "ipython",
    "version": 3
   },
   "file_extension": ".py",
   "mimetype": "text/x-python",
   "name": "python",
   "nbconvert_exporter": "python",
   "pygments_lexer": "ipython3",
   "version": "3.7.4"
  }
 },
 "nbformat": 4,
 "nbformat_minor": 2
}
